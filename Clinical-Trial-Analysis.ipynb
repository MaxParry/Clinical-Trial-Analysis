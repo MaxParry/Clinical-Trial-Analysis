{
 "cells": [
  {
   "cell_type": "markdown",
   "metadata": {},
   "source": [
    "# Clinical Trial Analysis"
   ]
  },
  {
   "cell_type": "markdown",
   "metadata": {},
   "source": [
    "![Laboratory Image](images/Laboratory.jpg)"
   ]
  },
  {
   "cell_type": "markdown",
   "metadata": {},
   "source": [
    "In this demonstration, I will analyze clinical trial data to determine the effects of four potential squamous cell carcinoma drugs.\n",
    "\n",
    "Data from a fictional animal study can be found in the input data folder. In this study, 250 mice were treated through a variety of drug regimes over the course of 45 days. Their physiological responses were then monitored over the course of that time. The objective of the analysis will be to show how four treatments (Capomulin, Infubinol, Ketapril, and Placebo) compare.\n",
    "\n",
    "In order to compare the drugs' effects, we will:\n",
    "\n",
    "\n",
    " - Create a scatter plot that shows how the tumor volume changes over time for each treatment.\n",
    " - Create a scatter plot that shows how the number of metastatic (cancer spreading) sites changes over time for each treatment.\n",
    " - Create a scatter plot that shows the number of mice still alive through the course of treatment (Survival Rate)\n",
    " - Create a bar graph that compares the total % tumor volume change for each drug across the full 45 days.\n",
    "\n",
    "\n",
    "As final considerations:\n",
    "\n",
    "\n",
    " - We will include error bars (SEM) in the plots. This will allow the company to account for variability between mice. \n",
    " - We will indicate tumor growth as red and tumor reduction as green in the bar graph.\n",
    " - We will also include a label with the percentage change for each bar."
   ]
  },
  {
   "cell_type": "markdown",
   "metadata": {},
   "source": [
    "### Import dependencies:"
   ]
  },
  {
   "cell_type": "code",
   "execution_count": 260,
   "metadata": {},
   "outputs": [
    {
     "data": {
      "text/plain": [
       "<matplotlib.figure.Figure at 0x12024fb00>"
      ]
     },
     "execution_count": 260,
     "metadata": {},
     "output_type": "execute_result"
    }
   ],
   "source": [
    "import pandas as pd\n",
    "import numpy as np\n",
    "import matplotlib.pyplot as plt"
   ]
  },
  {
   "cell_type": "markdown",
   "metadata": {},
   "source": [
    "### Load ```.csv```s"
   ]
  },
  {
   "cell_type": "code",
   "execution_count": 261,
   "metadata": {},
   "outputs": [],
   "source": [
    "# create dataframes from csv files\n",
    "trial_csv = pd.read_csv('input_data/clinicaltrial_data.csv')\n",
    "mouse_csv = pd.read_csv('input_data/mouse_drug_data.csv')\n",
    "trial = pd.DataFrame(trial_csv)\n",
    "mouse = pd.DataFrame(mouse_csv)"
   ]
  },
  {
   "cell_type": "markdown",
   "metadata": {},
   "source": [
    "### Explore data"
   ]
  },
  {
   "cell_type": "code",
   "execution_count": 262,
   "metadata": {},
   "outputs": [
    {
     "data": {
      "text/html": [
       "<div>\n",
       "<style scoped>\n",
       "    .dataframe tbody tr th:only-of-type {\n",
       "        vertical-align: middle;\n",
       "    }\n",
       "\n",
       "    .dataframe tbody tr th {\n",
       "        vertical-align: top;\n",
       "    }\n",
       "\n",
       "    .dataframe thead th {\n",
       "        text-align: right;\n",
       "    }\n",
       "</style>\n",
       "<table border=\"1\" class=\"dataframe\">\n",
       "  <thead>\n",
       "    <tr style=\"text-align: right;\">\n",
       "      <th></th>\n",
       "      <th>Mouse ID</th>\n",
       "      <th>Timepoint</th>\n",
       "      <th>Tumor Volume (mm3)</th>\n",
       "      <th>Metastatic Sites</th>\n",
       "    </tr>\n",
       "  </thead>\n",
       "  <tbody>\n",
       "    <tr>\n",
       "      <th>0</th>\n",
       "      <td>b128</td>\n",
       "      <td>0</td>\n",
       "      <td>45.0</td>\n",
       "      <td>0</td>\n",
       "    </tr>\n",
       "    <tr>\n",
       "      <th>1</th>\n",
       "      <td>f932</td>\n",
       "      <td>0</td>\n",
       "      <td>45.0</td>\n",
       "      <td>0</td>\n",
       "    </tr>\n",
       "    <tr>\n",
       "      <th>2</th>\n",
       "      <td>g107</td>\n",
       "      <td>0</td>\n",
       "      <td>45.0</td>\n",
       "      <td>0</td>\n",
       "    </tr>\n",
       "    <tr>\n",
       "      <th>3</th>\n",
       "      <td>a457</td>\n",
       "      <td>0</td>\n",
       "      <td>45.0</td>\n",
       "      <td>0</td>\n",
       "    </tr>\n",
       "    <tr>\n",
       "      <th>4</th>\n",
       "      <td>c819</td>\n",
       "      <td>0</td>\n",
       "      <td>45.0</td>\n",
       "      <td>0</td>\n",
       "    </tr>\n",
       "  </tbody>\n",
       "</table>\n",
       "</div>"
      ],
      "text/plain": [
       "  Mouse ID  Timepoint  Tumor Volume (mm3)  Metastatic Sites\n",
       "0     b128          0                45.0                 0\n",
       "1     f932          0                45.0                 0\n",
       "2     g107          0                45.0                 0\n",
       "3     a457          0                45.0                 0\n",
       "4     c819          0                45.0                 0"
      ]
     },
     "execution_count": 262,
     "metadata": {},
     "output_type": "execute_result"
    }
   ],
   "source": [
    "trial.head()"
   ]
  },
  {
   "cell_type": "code",
   "execution_count": 263,
   "metadata": {},
   "outputs": [
    {
     "data": {
      "text/plain": [
       "RangeIndex(start=0, stop=1893, step=1)"
      ]
     },
     "execution_count": 263,
     "metadata": {},
     "output_type": "execute_result"
    }
   ],
   "source": [
    "trial.index"
   ]
  },
  {
   "cell_type": "code",
   "execution_count": 264,
   "metadata": {},
   "outputs": [
    {
     "data": {
      "text/plain": [
       "Mouse ID               object\n",
       "Timepoint               int64\n",
       "Tumor Volume (mm3)    float64\n",
       "Metastatic Sites        int64\n",
       "dtype: object"
      ]
     },
     "execution_count": 264,
     "metadata": {},
     "output_type": "execute_result"
    }
   ],
   "source": [
    "trial.dtypes"
   ]
  },
  {
   "cell_type": "code",
   "execution_count": 265,
   "metadata": {},
   "outputs": [
    {
     "data": {
      "text/html": [
       "<div>\n",
       "<style scoped>\n",
       "    .dataframe tbody tr th:only-of-type {\n",
       "        vertical-align: middle;\n",
       "    }\n",
       "\n",
       "    .dataframe tbody tr th {\n",
       "        vertical-align: top;\n",
       "    }\n",
       "\n",
       "    .dataframe thead th {\n",
       "        text-align: right;\n",
       "    }\n",
       "</style>\n",
       "<table border=\"1\" class=\"dataframe\">\n",
       "  <thead>\n",
       "    <tr style=\"text-align: right;\">\n",
       "      <th></th>\n",
       "      <th>Mouse ID</th>\n",
       "      <th>Drug</th>\n",
       "    </tr>\n",
       "  </thead>\n",
       "  <tbody>\n",
       "    <tr>\n",
       "      <th>0</th>\n",
       "      <td>f234</td>\n",
       "      <td>Stelasyn</td>\n",
       "    </tr>\n",
       "    <tr>\n",
       "      <th>1</th>\n",
       "      <td>x402</td>\n",
       "      <td>Stelasyn</td>\n",
       "    </tr>\n",
       "    <tr>\n",
       "      <th>2</th>\n",
       "      <td>a492</td>\n",
       "      <td>Stelasyn</td>\n",
       "    </tr>\n",
       "    <tr>\n",
       "      <th>3</th>\n",
       "      <td>w540</td>\n",
       "      <td>Stelasyn</td>\n",
       "    </tr>\n",
       "    <tr>\n",
       "      <th>4</th>\n",
       "      <td>v764</td>\n",
       "      <td>Stelasyn</td>\n",
       "    </tr>\n",
       "  </tbody>\n",
       "</table>\n",
       "</div>"
      ],
      "text/plain": [
       "  Mouse ID      Drug\n",
       "0     f234  Stelasyn\n",
       "1     x402  Stelasyn\n",
       "2     a492  Stelasyn\n",
       "3     w540  Stelasyn\n",
       "4     v764  Stelasyn"
      ]
     },
     "execution_count": 265,
     "metadata": {},
     "output_type": "execute_result"
    }
   ],
   "source": [
    "mouse.head()"
   ]
  },
  {
   "cell_type": "code",
   "execution_count": 266,
   "metadata": {},
   "outputs": [
    {
     "data": {
      "text/plain": [
       "RangeIndex(start=0, stop=250, step=1)"
      ]
     },
     "execution_count": 266,
     "metadata": {},
     "output_type": "execute_result"
    }
   ],
   "source": [
    "mouse.index"
   ]
  },
  {
   "cell_type": "code",
   "execution_count": 267,
   "metadata": {},
   "outputs": [
    {
     "data": {
      "text/plain": [
       "Mouse ID    object\n",
       "Drug        object\n",
       "dtype: object"
      ]
     },
     "execution_count": 267,
     "metadata": {},
     "output_type": "execute_result"
    }
   ],
   "source": [
    "mouse.dtypes"
   ]
  },
  {
   "cell_type": "markdown",
   "metadata": {},
   "source": [
    "## Tumor volume over time by treatment:\n",
    "First step is to join the two dataframes to cross reference"
   ]
  },
  {
   "cell_type": "code",
   "execution_count": 268,
   "metadata": {},
   "outputs": [],
   "source": [
    "together = trial.merge(mouse, on='Mouse ID', how='left')"
   ]
  },
  {
   "cell_type": "code",
   "execution_count": 269,
   "metadata": {},
   "outputs": [
    {
     "data": {
      "text/html": [
       "<div>\n",
       "<style scoped>\n",
       "    .dataframe tbody tr th:only-of-type {\n",
       "        vertical-align: middle;\n",
       "    }\n",
       "\n",
       "    .dataframe tbody tr th {\n",
       "        vertical-align: top;\n",
       "    }\n",
       "\n",
       "    .dataframe thead th {\n",
       "        text-align: right;\n",
       "    }\n",
       "</style>\n",
       "<table border=\"1\" class=\"dataframe\">\n",
       "  <thead>\n",
       "    <tr style=\"text-align: right;\">\n",
       "      <th></th>\n",
       "      <th>Mouse ID</th>\n",
       "      <th>Timepoint</th>\n",
       "      <th>Tumor Volume (mm3)</th>\n",
       "      <th>Metastatic Sites</th>\n",
       "      <th>Drug</th>\n",
       "    </tr>\n",
       "  </thead>\n",
       "  <tbody>\n",
       "    <tr>\n",
       "      <th>0</th>\n",
       "      <td>b128</td>\n",
       "      <td>0</td>\n",
       "      <td>45.0</td>\n",
       "      <td>0</td>\n",
       "      <td>Capomulin</td>\n",
       "    </tr>\n",
       "    <tr>\n",
       "      <th>1</th>\n",
       "      <td>f932</td>\n",
       "      <td>0</td>\n",
       "      <td>45.0</td>\n",
       "      <td>0</td>\n",
       "      <td>Ketapril</td>\n",
       "    </tr>\n",
       "    <tr>\n",
       "      <th>2</th>\n",
       "      <td>g107</td>\n",
       "      <td>0</td>\n",
       "      <td>45.0</td>\n",
       "      <td>0</td>\n",
       "      <td>Ketapril</td>\n",
       "    </tr>\n",
       "    <tr>\n",
       "      <th>3</th>\n",
       "      <td>a457</td>\n",
       "      <td>0</td>\n",
       "      <td>45.0</td>\n",
       "      <td>0</td>\n",
       "      <td>Ketapril</td>\n",
       "    </tr>\n",
       "    <tr>\n",
       "      <th>4</th>\n",
       "      <td>c819</td>\n",
       "      <td>0</td>\n",
       "      <td>45.0</td>\n",
       "      <td>0</td>\n",
       "      <td>Ketapril</td>\n",
       "    </tr>\n",
       "  </tbody>\n",
       "</table>\n",
       "</div>"
      ],
      "text/plain": [
       "  Mouse ID  Timepoint  Tumor Volume (mm3)  Metastatic Sites       Drug\n",
       "0     b128          0                45.0                 0  Capomulin\n",
       "1     f932          0                45.0                 0   Ketapril\n",
       "2     g107          0                45.0                 0   Ketapril\n",
       "3     a457          0                45.0                 0   Ketapril\n",
       "4     c819          0                45.0                 0   Ketapril"
      ]
     },
     "execution_count": 269,
     "metadata": {},
     "output_type": "execute_result"
    }
   ],
   "source": [
    "together.head()"
   ]
  },
  {
   "cell_type": "markdown",
   "metadata": {},
   "source": [
    "Then we:\n",
    "- groupby drug and timepoint respectively\n",
    "- display the mean of tumor volumes at each timepoint as a summary statistic"
   ]
  },
  {
   "cell_type": "code",
   "execution_count": 270,
   "metadata": {},
   "outputs": [],
   "source": [
    "drug_time_group = together.groupby(['Drug','Timepoint'])"
   ]
  },
  {
   "cell_type": "code",
   "execution_count": 271,
   "metadata": {},
   "outputs": [
    {
     "name": "stderr",
     "output_type": "stream",
     "text": [
      "/anaconda/lib/python3.6/site-packages/ipykernel_launcher.py:2: FutureWarning: using a dict on a Series for aggregation\n",
      "is deprecated and will be removed in a future version\n",
      "  \n"
     ]
    },
    {
     "data": {
      "text/html": [
       "<div>\n",
       "<style scoped>\n",
       "    .dataframe tbody tr th:only-of-type {\n",
       "        vertical-align: middle;\n",
       "    }\n",
       "\n",
       "    .dataframe tbody tr th {\n",
       "        vertical-align: top;\n",
       "    }\n",
       "\n",
       "    .dataframe thead th {\n",
       "        text-align: right;\n",
       "    }\n",
       "</style>\n",
       "<table border=\"1\" class=\"dataframe\">\n",
       "  <thead>\n",
       "    <tr style=\"text-align: right;\">\n",
       "      <th></th>\n",
       "      <th>Drug</th>\n",
       "      <th>Timepoint</th>\n",
       "      <th>Tumor Volume (mm3)</th>\n",
       "      <th>Std. Error</th>\n",
       "    </tr>\n",
       "  </thead>\n",
       "  <tbody>\n",
       "    <tr>\n",
       "      <th>0</th>\n",
       "      <td>Capomulin</td>\n",
       "      <td>0</td>\n",
       "      <td>45.000000</td>\n",
       "      <td>0.000000</td>\n",
       "    </tr>\n",
       "    <tr>\n",
       "      <th>1</th>\n",
       "      <td>Capomulin</td>\n",
       "      <td>5</td>\n",
       "      <td>44.266086</td>\n",
       "      <td>0.448593</td>\n",
       "    </tr>\n",
       "    <tr>\n",
       "      <th>2</th>\n",
       "      <td>Capomulin</td>\n",
       "      <td>10</td>\n",
       "      <td>43.084291</td>\n",
       "      <td>0.702684</td>\n",
       "    </tr>\n",
       "    <tr>\n",
       "      <th>3</th>\n",
       "      <td>Capomulin</td>\n",
       "      <td>15</td>\n",
       "      <td>42.064317</td>\n",
       "      <td>0.838617</td>\n",
       "    </tr>\n",
       "    <tr>\n",
       "      <th>4</th>\n",
       "      <td>Capomulin</td>\n",
       "      <td>20</td>\n",
       "      <td>40.716325</td>\n",
       "      <td>0.909731</td>\n",
       "    </tr>\n",
       "    <tr>\n",
       "      <th>5</th>\n",
       "      <td>Capomulin</td>\n",
       "      <td>25</td>\n",
       "      <td>39.939528</td>\n",
       "      <td>0.881642</td>\n",
       "    </tr>\n",
       "    <tr>\n",
       "      <th>6</th>\n",
       "      <td>Capomulin</td>\n",
       "      <td>30</td>\n",
       "      <td>38.769339</td>\n",
       "      <td>0.934460</td>\n",
       "    </tr>\n",
       "    <tr>\n",
       "      <th>7</th>\n",
       "      <td>Capomulin</td>\n",
       "      <td>35</td>\n",
       "      <td>37.816839</td>\n",
       "      <td>1.052241</td>\n",
       "    </tr>\n",
       "    <tr>\n",
       "      <th>8</th>\n",
       "      <td>Capomulin</td>\n",
       "      <td>40</td>\n",
       "      <td>36.958001</td>\n",
       "      <td>1.223608</td>\n",
       "    </tr>\n",
       "    <tr>\n",
       "      <th>9</th>\n",
       "      <td>Capomulin</td>\n",
       "      <td>45</td>\n",
       "      <td>36.236114</td>\n",
       "      <td>1.223977</td>\n",
       "    </tr>\n",
       "    <tr>\n",
       "      <th>10</th>\n",
       "      <td>Ceftamin</td>\n",
       "      <td>0</td>\n",
       "      <td>45.000000</td>\n",
       "      <td>0.000000</td>\n",
       "    </tr>\n",
       "    <tr>\n",
       "      <th>11</th>\n",
       "      <td>Ceftamin</td>\n",
       "      <td>5</td>\n",
       "      <td>46.503051</td>\n",
       "      <td>0.164505</td>\n",
       "    </tr>\n",
       "    <tr>\n",
       "      <th>12</th>\n",
       "      <td>Ceftamin</td>\n",
       "      <td>10</td>\n",
       "      <td>48.285125</td>\n",
       "      <td>0.236144</td>\n",
       "    </tr>\n",
       "    <tr>\n",
       "      <th>13</th>\n",
       "      <td>Ceftamin</td>\n",
       "      <td>15</td>\n",
       "      <td>50.094055</td>\n",
       "      <td>0.332053</td>\n",
       "    </tr>\n",
       "    <tr>\n",
       "      <th>14</th>\n",
       "      <td>Ceftamin</td>\n",
       "      <td>20</td>\n",
       "      <td>52.157049</td>\n",
       "      <td>0.359482</td>\n",
       "    </tr>\n",
       "    <tr>\n",
       "      <th>15</th>\n",
       "      <td>Ceftamin</td>\n",
       "      <td>25</td>\n",
       "      <td>54.287674</td>\n",
       "      <td>0.439356</td>\n",
       "    </tr>\n",
       "    <tr>\n",
       "      <th>16</th>\n",
       "      <td>Ceftamin</td>\n",
       "      <td>30</td>\n",
       "      <td>56.769517</td>\n",
       "      <td>0.490620</td>\n",
       "    </tr>\n",
       "    <tr>\n",
       "      <th>17</th>\n",
       "      <td>Ceftamin</td>\n",
       "      <td>35</td>\n",
       "      <td>58.827548</td>\n",
       "      <td>0.692248</td>\n",
       "    </tr>\n",
       "    <tr>\n",
       "      <th>18</th>\n",
       "      <td>Ceftamin</td>\n",
       "      <td>40</td>\n",
       "      <td>61.467895</td>\n",
       "      <td>0.708505</td>\n",
       "    </tr>\n",
       "    <tr>\n",
       "      <th>19</th>\n",
       "      <td>Ceftamin</td>\n",
       "      <td>45</td>\n",
       "      <td>64.132421</td>\n",
       "      <td>0.902358</td>\n",
       "    </tr>\n",
       "    <tr>\n",
       "      <th>20</th>\n",
       "      <td>Infubinol</td>\n",
       "      <td>0</td>\n",
       "      <td>45.000000</td>\n",
       "      <td>0.000000</td>\n",
       "    </tr>\n",
       "    <tr>\n",
       "      <th>21</th>\n",
       "      <td>Infubinol</td>\n",
       "      <td>5</td>\n",
       "      <td>47.062001</td>\n",
       "      <td>0.235102</td>\n",
       "    </tr>\n",
       "    <tr>\n",
       "      <th>22</th>\n",
       "      <td>Infubinol</td>\n",
       "      <td>10</td>\n",
       "      <td>49.403909</td>\n",
       "      <td>0.282346</td>\n",
       "    </tr>\n",
       "    <tr>\n",
       "      <th>23</th>\n",
       "      <td>Infubinol</td>\n",
       "      <td>15</td>\n",
       "      <td>51.296397</td>\n",
       "      <td>0.357705</td>\n",
       "    </tr>\n",
       "    <tr>\n",
       "      <th>24</th>\n",
       "      <td>Infubinol</td>\n",
       "      <td>20</td>\n",
       "      <td>53.197691</td>\n",
       "      <td>0.476210</td>\n",
       "    </tr>\n",
       "    <tr>\n",
       "      <th>25</th>\n",
       "      <td>Infubinol</td>\n",
       "      <td>25</td>\n",
       "      <td>55.715252</td>\n",
       "      <td>0.550315</td>\n",
       "    </tr>\n",
       "    <tr>\n",
       "      <th>26</th>\n",
       "      <td>Infubinol</td>\n",
       "      <td>30</td>\n",
       "      <td>58.299397</td>\n",
       "      <td>0.631061</td>\n",
       "    </tr>\n",
       "    <tr>\n",
       "      <th>27</th>\n",
       "      <td>Infubinol</td>\n",
       "      <td>35</td>\n",
       "      <td>60.742461</td>\n",
       "      <td>0.984155</td>\n",
       "    </tr>\n",
       "    <tr>\n",
       "      <th>28</th>\n",
       "      <td>Infubinol</td>\n",
       "      <td>40</td>\n",
       "      <td>63.162824</td>\n",
       "      <td>1.055220</td>\n",
       "    </tr>\n",
       "    <tr>\n",
       "      <th>29</th>\n",
       "      <td>Infubinol</td>\n",
       "      <td>45</td>\n",
       "      <td>65.755562</td>\n",
       "      <td>1.144427</td>\n",
       "    </tr>\n",
       "    <tr>\n",
       "      <th>...</th>\n",
       "      <td>...</td>\n",
       "      <td>...</td>\n",
       "      <td>...</td>\n",
       "      <td>...</td>\n",
       "    </tr>\n",
       "    <tr>\n",
       "      <th>70</th>\n",
       "      <td>Ramicane</td>\n",
       "      <td>0</td>\n",
       "      <td>45.000000</td>\n",
       "      <td>0.000000</td>\n",
       "    </tr>\n",
       "    <tr>\n",
       "      <th>71</th>\n",
       "      <td>Ramicane</td>\n",
       "      <td>5</td>\n",
       "      <td>43.944859</td>\n",
       "      <td>0.482955</td>\n",
       "    </tr>\n",
       "    <tr>\n",
       "      <th>72</th>\n",
       "      <td>Ramicane</td>\n",
       "      <td>10</td>\n",
       "      <td>42.531957</td>\n",
       "      <td>0.720225</td>\n",
       "    </tr>\n",
       "    <tr>\n",
       "      <th>73</th>\n",
       "      <td>Ramicane</td>\n",
       "      <td>15</td>\n",
       "      <td>41.495061</td>\n",
       "      <td>0.770432</td>\n",
       "    </tr>\n",
       "    <tr>\n",
       "      <th>74</th>\n",
       "      <td>Ramicane</td>\n",
       "      <td>20</td>\n",
       "      <td>40.238325</td>\n",
       "      <td>0.786199</td>\n",
       "    </tr>\n",
       "    <tr>\n",
       "      <th>75</th>\n",
       "      <td>Ramicane</td>\n",
       "      <td>25</td>\n",
       "      <td>38.974300</td>\n",
       "      <td>0.746991</td>\n",
       "    </tr>\n",
       "    <tr>\n",
       "      <th>76</th>\n",
       "      <td>Ramicane</td>\n",
       "      <td>30</td>\n",
       "      <td>38.703137</td>\n",
       "      <td>0.864906</td>\n",
       "    </tr>\n",
       "    <tr>\n",
       "      <th>77</th>\n",
       "      <td>Ramicane</td>\n",
       "      <td>35</td>\n",
       "      <td>37.451996</td>\n",
       "      <td>0.967433</td>\n",
       "    </tr>\n",
       "    <tr>\n",
       "      <th>78</th>\n",
       "      <td>Ramicane</td>\n",
       "      <td>40</td>\n",
       "      <td>36.574081</td>\n",
       "      <td>1.128445</td>\n",
       "    </tr>\n",
       "    <tr>\n",
       "      <th>79</th>\n",
       "      <td>Ramicane</td>\n",
       "      <td>45</td>\n",
       "      <td>34.955595</td>\n",
       "      <td>1.226805</td>\n",
       "    </tr>\n",
       "    <tr>\n",
       "      <th>80</th>\n",
       "      <td>Stelasyn</td>\n",
       "      <td>0</td>\n",
       "      <td>45.000000</td>\n",
       "      <td>0.000000</td>\n",
       "    </tr>\n",
       "    <tr>\n",
       "      <th>81</th>\n",
       "      <td>Stelasyn</td>\n",
       "      <td>5</td>\n",
       "      <td>47.527452</td>\n",
       "      <td>0.239862</td>\n",
       "    </tr>\n",
       "    <tr>\n",
       "      <th>82</th>\n",
       "      <td>Stelasyn</td>\n",
       "      <td>10</td>\n",
       "      <td>49.463844</td>\n",
       "      <td>0.433678</td>\n",
       "    </tr>\n",
       "    <tr>\n",
       "      <th>83</th>\n",
       "      <td>Stelasyn</td>\n",
       "      <td>15</td>\n",
       "      <td>51.529409</td>\n",
       "      <td>0.493261</td>\n",
       "    </tr>\n",
       "    <tr>\n",
       "      <th>84</th>\n",
       "      <td>Stelasyn</td>\n",
       "      <td>20</td>\n",
       "      <td>54.067395</td>\n",
       "      <td>0.621889</td>\n",
       "    </tr>\n",
       "    <tr>\n",
       "      <th>85</th>\n",
       "      <td>Stelasyn</td>\n",
       "      <td>25</td>\n",
       "      <td>56.166123</td>\n",
       "      <td>0.741922</td>\n",
       "    </tr>\n",
       "    <tr>\n",
       "      <th>86</th>\n",
       "      <td>Stelasyn</td>\n",
       "      <td>30</td>\n",
       "      <td>59.826738</td>\n",
       "      <td>0.899548</td>\n",
       "    </tr>\n",
       "    <tr>\n",
       "      <th>87</th>\n",
       "      <td>Stelasyn</td>\n",
       "      <td>35</td>\n",
       "      <td>62.440699</td>\n",
       "      <td>1.003186</td>\n",
       "    </tr>\n",
       "    <tr>\n",
       "      <th>88</th>\n",
       "      <td>Stelasyn</td>\n",
       "      <td>40</td>\n",
       "      <td>65.356386</td>\n",
       "      <td>1.410435</td>\n",
       "    </tr>\n",
       "    <tr>\n",
       "      <th>89</th>\n",
       "      <td>Stelasyn</td>\n",
       "      <td>45</td>\n",
       "      <td>68.438310</td>\n",
       "      <td>1.576556</td>\n",
       "    </tr>\n",
       "    <tr>\n",
       "      <th>90</th>\n",
       "      <td>Zoniferol</td>\n",
       "      <td>0</td>\n",
       "      <td>45.000000</td>\n",
       "      <td>0.000000</td>\n",
       "    </tr>\n",
       "    <tr>\n",
       "      <th>91</th>\n",
       "      <td>Zoniferol</td>\n",
       "      <td>5</td>\n",
       "      <td>46.851818</td>\n",
       "      <td>0.188950</td>\n",
       "    </tr>\n",
       "    <tr>\n",
       "      <th>92</th>\n",
       "      <td>Zoniferol</td>\n",
       "      <td>10</td>\n",
       "      <td>48.689881</td>\n",
       "      <td>0.263949</td>\n",
       "    </tr>\n",
       "    <tr>\n",
       "      <th>93</th>\n",
       "      <td>Zoniferol</td>\n",
       "      <td>15</td>\n",
       "      <td>50.779059</td>\n",
       "      <td>0.370544</td>\n",
       "    </tr>\n",
       "    <tr>\n",
       "      <th>94</th>\n",
       "      <td>Zoniferol</td>\n",
       "      <td>20</td>\n",
       "      <td>53.170334</td>\n",
       "      <td>0.533182</td>\n",
       "    </tr>\n",
       "    <tr>\n",
       "      <th>95</th>\n",
       "      <td>Zoniferol</td>\n",
       "      <td>25</td>\n",
       "      <td>55.432935</td>\n",
       "      <td>0.602513</td>\n",
       "    </tr>\n",
       "    <tr>\n",
       "      <th>96</th>\n",
       "      <td>Zoniferol</td>\n",
       "      <td>30</td>\n",
       "      <td>57.713531</td>\n",
       "      <td>0.800043</td>\n",
       "    </tr>\n",
       "    <tr>\n",
       "      <th>97</th>\n",
       "      <td>Zoniferol</td>\n",
       "      <td>35</td>\n",
       "      <td>60.089372</td>\n",
       "      <td>0.881426</td>\n",
       "    </tr>\n",
       "    <tr>\n",
       "      <th>98</th>\n",
       "      <td>Zoniferol</td>\n",
       "      <td>40</td>\n",
       "      <td>62.916692</td>\n",
       "      <td>0.998515</td>\n",
       "    </tr>\n",
       "    <tr>\n",
       "      <th>99</th>\n",
       "      <td>Zoniferol</td>\n",
       "      <td>45</td>\n",
       "      <td>65.960888</td>\n",
       "      <td>1.003576</td>\n",
       "    </tr>\n",
       "  </tbody>\n",
       "</table>\n",
       "<p>100 rows × 4 columns</p>\n",
       "</div>"
      ],
      "text/plain": [
       "         Drug  Timepoint  Tumor Volume (mm3)  Std. Error\n",
       "0   Capomulin          0           45.000000    0.000000\n",
       "1   Capomulin          5           44.266086    0.448593\n",
       "2   Capomulin         10           43.084291    0.702684\n",
       "3   Capomulin         15           42.064317    0.838617\n",
       "4   Capomulin         20           40.716325    0.909731\n",
       "5   Capomulin         25           39.939528    0.881642\n",
       "6   Capomulin         30           38.769339    0.934460\n",
       "7   Capomulin         35           37.816839    1.052241\n",
       "8   Capomulin         40           36.958001    1.223608\n",
       "9   Capomulin         45           36.236114    1.223977\n",
       "10   Ceftamin          0           45.000000    0.000000\n",
       "11   Ceftamin          5           46.503051    0.164505\n",
       "12   Ceftamin         10           48.285125    0.236144\n",
       "13   Ceftamin         15           50.094055    0.332053\n",
       "14   Ceftamin         20           52.157049    0.359482\n",
       "15   Ceftamin         25           54.287674    0.439356\n",
       "16   Ceftamin         30           56.769517    0.490620\n",
       "17   Ceftamin         35           58.827548    0.692248\n",
       "18   Ceftamin         40           61.467895    0.708505\n",
       "19   Ceftamin         45           64.132421    0.902358\n",
       "20  Infubinol          0           45.000000    0.000000\n",
       "21  Infubinol          5           47.062001    0.235102\n",
       "22  Infubinol         10           49.403909    0.282346\n",
       "23  Infubinol         15           51.296397    0.357705\n",
       "24  Infubinol         20           53.197691    0.476210\n",
       "25  Infubinol         25           55.715252    0.550315\n",
       "26  Infubinol         30           58.299397    0.631061\n",
       "27  Infubinol         35           60.742461    0.984155\n",
       "28  Infubinol         40           63.162824    1.055220\n",
       "29  Infubinol         45           65.755562    1.144427\n",
       "..        ...        ...                 ...         ...\n",
       "70   Ramicane          0           45.000000    0.000000\n",
       "71   Ramicane          5           43.944859    0.482955\n",
       "72   Ramicane         10           42.531957    0.720225\n",
       "73   Ramicane         15           41.495061    0.770432\n",
       "74   Ramicane         20           40.238325    0.786199\n",
       "75   Ramicane         25           38.974300    0.746991\n",
       "76   Ramicane         30           38.703137    0.864906\n",
       "77   Ramicane         35           37.451996    0.967433\n",
       "78   Ramicane         40           36.574081    1.128445\n",
       "79   Ramicane         45           34.955595    1.226805\n",
       "80   Stelasyn          0           45.000000    0.000000\n",
       "81   Stelasyn          5           47.527452    0.239862\n",
       "82   Stelasyn         10           49.463844    0.433678\n",
       "83   Stelasyn         15           51.529409    0.493261\n",
       "84   Stelasyn         20           54.067395    0.621889\n",
       "85   Stelasyn         25           56.166123    0.741922\n",
       "86   Stelasyn         30           59.826738    0.899548\n",
       "87   Stelasyn         35           62.440699    1.003186\n",
       "88   Stelasyn         40           65.356386    1.410435\n",
       "89   Stelasyn         45           68.438310    1.576556\n",
       "90  Zoniferol          0           45.000000    0.000000\n",
       "91  Zoniferol          5           46.851818    0.188950\n",
       "92  Zoniferol         10           48.689881    0.263949\n",
       "93  Zoniferol         15           50.779059    0.370544\n",
       "94  Zoniferol         20           53.170334    0.533182\n",
       "95  Zoniferol         25           55.432935    0.602513\n",
       "96  Zoniferol         30           57.713531    0.800043\n",
       "97  Zoniferol         35           60.089372    0.881426\n",
       "98  Zoniferol         40           62.916692    0.998515\n",
       "99  Zoniferol         45           65.960888    1.003576\n",
       "\n",
       "[100 rows x 4 columns]"
      ]
     },
     "execution_count": 271,
     "metadata": {},
     "output_type": "execute_result"
    }
   ],
   "source": [
    "avtumor = pd.DataFrame(drug_time_group['Tumor Volume (mm3)'].agg({'Tumor Volume (mm3)': 'mean',\n",
    "                                                                  'Std. Error': 'sem'})).reset_index()\n",
    "\n",
    "avtumor"
   ]
  },
  {
   "cell_type": "markdown",
   "metadata": {},
   "source": [
    "Then we create separate dataframes for each plot group:"
   ]
  },
  {
   "cell_type": "code",
   "execution_count": 309,
   "metadata": {},
   "outputs": [
    {
     "data": {
      "text/html": [
       "<div>\n",
       "<style scoped>\n",
       "    .dataframe tbody tr th:only-of-type {\n",
       "        vertical-align: middle;\n",
       "    }\n",
       "\n",
       "    .dataframe tbody tr th {\n",
       "        vertical-align: top;\n",
       "    }\n",
       "\n",
       "    .dataframe thead th {\n",
       "        text-align: right;\n",
       "    }\n",
       "</style>\n",
       "<table border=\"1\" class=\"dataframe\">\n",
       "  <thead>\n",
       "    <tr style=\"text-align: right;\">\n",
       "      <th></th>\n",
       "      <th>Drug</th>\n",
       "      <th>Timepoint</th>\n",
       "      <th>Tumor Volume (mm3)</th>\n",
       "      <th>Std. Error</th>\n",
       "    </tr>\n",
       "  </thead>\n",
       "  <tbody>\n",
       "    <tr>\n",
       "      <th>0</th>\n",
       "      <td>Capomulin</td>\n",
       "      <td>0</td>\n",
       "      <td>45.000000</td>\n",
       "      <td>0.000000</td>\n",
       "    </tr>\n",
       "    <tr>\n",
       "      <th>1</th>\n",
       "      <td>Capomulin</td>\n",
       "      <td>5</td>\n",
       "      <td>44.266086</td>\n",
       "      <td>0.448593</td>\n",
       "    </tr>\n",
       "    <tr>\n",
       "      <th>2</th>\n",
       "      <td>Capomulin</td>\n",
       "      <td>10</td>\n",
       "      <td>43.084291</td>\n",
       "      <td>0.702684</td>\n",
       "    </tr>\n",
       "    <tr>\n",
       "      <th>3</th>\n",
       "      <td>Capomulin</td>\n",
       "      <td>15</td>\n",
       "      <td>42.064317</td>\n",
       "      <td>0.838617</td>\n",
       "    </tr>\n",
       "    <tr>\n",
       "      <th>4</th>\n",
       "      <td>Capomulin</td>\n",
       "      <td>20</td>\n",
       "      <td>40.716325</td>\n",
       "      <td>0.909731</td>\n",
       "    </tr>\n",
       "  </tbody>\n",
       "</table>\n",
       "</div>"
      ],
      "text/plain": [
       "        Drug  Timepoint  Tumor Volume (mm3)  Std. Error\n",
       "0  Capomulin          0           45.000000    0.000000\n",
       "1  Capomulin          5           44.266086    0.448593\n",
       "2  Capomulin         10           43.084291    0.702684\n",
       "3  Capomulin         15           42.064317    0.838617\n",
       "4  Capomulin         20           40.716325    0.909731"
      ]
     },
     "execution_count": 309,
     "metadata": {},
     "output_type": "execute_result"
    }
   ],
   "source": [
    "capo = avtumor[avtumor['Drug'] == 'Capomulin']\n",
    "infu = avtumor[avtumor['Drug'] == 'Infubinol']\n",
    "keta = avtumor[avtumor['Drug'] == 'Ketapril']\n",
    "plac = avtumor[avtumor['Drug'] == 'Placebo']\n",
    "capo.head()"
   ]
  },
  {
   "cell_type": "markdown",
   "metadata": {},
   "source": [
    "Then we plot each group separately, assigning a proper label and different color each time.\n",
    "- To make them show up on the same plot, we assign each to a variable, then pass in that variable into ```ax=``` each time"
   ]
  },
  {
   "cell_type": "code",
   "execution_count": 324,
   "metadata": {},
   "outputs": [
    {
     "data": {
      "text/plain": [
       "<matplotlib.axes._subplots.AxesSubplot at 0x11d804668>"
      ]
     },
     "execution_count": 324,
     "metadata": {},
     "output_type": "execute_result"
    }
   ],
   "source": [
    "ax = capo.plot(x='Timepoint',\n",
    "               y='Tumor Volume (mm3)',\n",
    "               kind='scatter',\n",
    "               color='red',\n",
    "               label='Capomulin',\n",
    "               yerr='Std. Error')\n",
    "\n",
    "ax2 = infu.plot(x='Timepoint',\n",
    "                y='Tumor Volume (mm3)',\n",
    "                kind='scatter',\n",
    "                color='blue',\n",
    "                label='Infubinol',\n",
    "                ax=ax,\n",
    "                yerr='Std. Error')\n",
    "\n",
    "ax3 = keta.plot(x='Timepoint',\n",
    "                y='Tumor Volume (mm3)',\n",
    "                kind='scatter',\n",
    "                color='green',\n",
    "                label='Ketapril',\n",
    "                ax=ax2,\n",
    "                yerr='Std. Error')\n",
    "\n",
    "plac.plot(x='Timepoint',\n",
    "          y='Tumor Volume (mm3)',\n",
    "          kind='scatter',\n",
    "          color='purple',\n",
    "          label='Placebo',\n",
    "          ax=ax3,\n",
    "          yerr='Std. Error')"
   ]
  },
  {
   "cell_type": "markdown",
   "metadata": {},
   "source": [
    "Then add titles, a grid, and adjust the y-axis to start from zero"
   ]
  },
  {
   "cell_type": "code",
   "execution_count": 325,
   "metadata": {},
   "outputs": [
    {
     "data": {
      "text/plain": [
       "(0, 75)"
      ]
     },
     "execution_count": 325,
     "metadata": {},
     "output_type": "execute_result"
    }
   ],
   "source": [
    "\n",
    "plt.grid()\n",
    "plt.title('Average Tumor Volume vs. Time\\n by Treatment')\n",
    "plt.ylim(0, 75)"
   ]
  },
  {
   "cell_type": "code",
   "execution_count": 326,
   "metadata": {},
   "outputs": [
    {
     "data": {
      "image/png": "[encoded data removed]",
      "text/plain": [
       "<matplotlib.figure.Figure at 0x11fc450b8>"
      ]
     },
     "metadata": {},
     "output_type": "display_data"
    },
    {
     "data": {
      "text/plain": [
       "<matplotlib.figure.Figure at 0x11fd20630>"
      ]
     },
     "metadata": {},
     "output_type": "display_data"
    }
   ],
   "source": [
    "plt.show()"
   ]
  },
  {
   "cell_type": "markdown",
   "metadata": {},
   "source": [
    "Above, we can see that Capomulin seems to have an effect on Tumor size."
   ]
  },
  {
   "cell_type": "markdown",
   "metadata": {},
   "source": [
    "## Metastatic sites over time\n",
    "This we be the same as above, but for metastatic sites.\n",
    "- mean is chosen as a summary statistic because sum would be affected by mortality between groups."
   ]
  },
  {
   "cell_type": "code",
   "execution_count": 327,
   "metadata": {},
   "outputs": [],
   "source": [
    "drug_time_group = together.groupby(['Drug','Timepoint'])"
   ]
  },
  {
   "cell_type": "code",
   "execution_count": 328,
   "metadata": {},
   "outputs": [
    {
     "name": "stderr",
     "output_type": "stream",
     "text": [
      "/anaconda/lib/python3.6/site-packages/ipykernel_launcher.py:2: FutureWarning: using a dict on a Series for aggregation\n",
      "is deprecated and will be removed in a future version\n",
      "  \n"
     ]
    }
   ],
   "source": [
    "avmeta = pd.DataFrame(drug_time_group['Metastatic Sites'].agg({'Metastatic Sites': 'mean',\n",
    "                                                               'Std. Error': 'sem'})).reset_index()"
   ]
  },
  {
   "cell_type": "code",
   "execution_count": 329,
   "metadata": {},
   "outputs": [],
   "source": [
    "capo = avmeta[avmeta['Drug'] == 'Capomulin']\n",
    "infu = avmeta[avmeta['Drug'] == 'Infubinol']\n",
    "keta = avmeta[avmeta['Drug'] == 'Ketapril']\n",
    "plac = avmeta[avmeta['Drug'] == 'Placebo']"
   ]
  },
  {
   "cell_type": "code",
   "execution_count": 330,
   "metadata": {},
   "outputs": [
    {
     "data": {
      "text/plain": [
       "<matplotlib.axes._subplots.AxesSubplot at 0x11d7ee908>"
      ]
     },
     "execution_count": 330,
     "metadata": {},
     "output_type": "execute_result"
    }
   ],
   "source": [
    "ax = capo.plot(x='Timepoint', y='Metastatic Sites', kind='scatter', color='red', label='Capomulin', yerr='Std. Error')\n",
    "ax2 = infu.plot(x='Timepoint', y='Metastatic Sites', kind='scatter', color='blue', label='Infubinol', ax=ax, yerr='Std. Error')\n",
    "ax3 = keta.plot(x='Timepoint', y='Metastatic Sites', kind='scatter', color='green', label='Ketapril', ax=ax2, yerr='Std. Error')\n",
    "plac.plot(x='Timepoint', y='Metastatic Sites', kind='scatter', color='purple', label='Placebo', ax=ax3, yerr='Std. Error')"
   ]
  },
  {
   "cell_type": "code",
   "execution_count": 331,
   "metadata": {},
   "outputs": [
    {
     "data": {
      "image/png": "[encoded data removed]",
      "text/plain": [
       "<matplotlib.figure.Figure at 0x11d5cb9b0>"
      ]
     },
     "metadata": {},
     "output_type": "display_data"
    }
   ],
   "source": [
    "plt.grid()\n",
    "plt.title('Average Number of Metastatic Sites\\n vs. Time\\n by Treatment')\n",
    "plt.ylim(0, 4)\n",
    "plt.show()"
   ]
  },
  {
   "cell_type": "markdown",
   "metadata": {},
   "source": [
    "Again, Capomulin treatment seems to produce the greatest reduction of metastatic site number."
   ]
  },
  {
   "cell_type": "markdown",
   "metadata": {},
   "source": [
    "## Survival over time\n",
    "This will be the same as above, but for survival.\n",
    "- To complete this portion, we will either have to:\n",
    "  - Add a column to the original joined dataframe for number of surviving mice for each drug at each timepoint, then groupby and use .mean as before, or\n",
    "  - Use .count() as the summary statistic after grouping.\n",
    " \n",
    "Lets try the latter:"
   ]
  },
  {
   "cell_type": "code",
   "execution_count": 333,
   "metadata": {},
   "outputs": [
    {
     "data": {
      "image/png": "[encoded data removed]",
      "text/plain": [
       "<matplotlib.figure.Figure at 0x11e6542b0>"
      ]
     },
     "metadata": {},
     "output_type": "display_data"
    }
   ],
   "source": [
    "drug_time_group = together.groupby(['Drug','Timepoint'])\n",
    "# pick any column and count\n",
    "micenum = pd.DataFrame(drug_time_group['Mouse ID'].count()).reset_index()\n",
    "\n",
    "capo = micenum[micenum['Drug'] == 'Capomulin']\n",
    "infu = micenum[micenum['Drug'] == 'Infubinol']\n",
    "keta = micenum[micenum['Drug'] == 'Ketapril']\n",
    "plac = micenum[micenum['Drug'] == 'Placebo']\n",
    "\n",
    "ax = capo.plot(x='Timepoint', y='Mouse ID', kind='scatter', color='red', label='Capomulin')\n",
    "ax2 = infu.plot(x='Timepoint', y='Mouse ID', kind='scatter', color='blue', label='Infubinol', ax=ax)\n",
    "ax3 = keta.plot(x='Timepoint', y='Mouse ID', kind='scatter', color='green', label='Ketapril', ax=ax2)\n",
    "plac.plot(x='Timepoint', y='Mouse ID', kind='scatter', color='purple', label='Placebo', ax=ax3)\n",
    "\n",
    "plt.grid()\n",
    "plt.title('Total Number of Surviving Mice\\n vs. Time\\n by Treatment')\n",
    "plt.ylim(0, 26)\n",
    "plt.show()"
   ]
  },
  {
   "cell_type": "markdown",
   "metadata": {},
   "source": [
    "Again, Capomulin comes out ahead, with the highest survival numbers at timepoint 45.\n",
    "- if we wanted the survival rate in percent, we could do the following:"
   ]
  },
  {
   "cell_type": "code",
   "execution_count": 334,
   "metadata": {},
   "outputs": [],
   "source": [
    "drug_time_group = together.groupby(['Drug','Timepoint'])\n",
    "\n",
    "# pick any column and count\n",
    "micepct = pd.DataFrame(drug_time_group['Mouse ID'].count()).reset_index()\n",
    "\n",
    "capo = micepct[micepct['Drug'] == 'Capomulin']\n",
    "infu = micepct[micepct['Drug'] == 'Infubinol']\n",
    "keta = micepct[micepct['Drug'] == 'Ketapril']\n",
    "plac = micepct[micepct['Drug'] == 'Placebo']\n",
    "\n",
    "origcapo = together[(together['Drug'] == 'Capomulin') & (together['Timepoint'] == 0)]['Mouse ID'].count()\n",
    "originfu = together[(together['Drug'] == 'Infubinol') & (together['Timepoint'] == 0)]['Mouse ID'].count()\n",
    "origketa = together[(together['Drug'] == 'Ketapril') & (together['Timepoint'] == 0)]['Mouse ID'].count()\n",
    "origplac = together[(together['Drug'] == 'Placebo') & (together['Timepoint'] == 0)]['Mouse ID'].count()"
   ]
  },
  {
   "cell_type": "code",
   "execution_count": 335,
   "metadata": {},
   "outputs": [
    {
     "name": "stderr",
     "output_type": "stream",
     "text": [
      "/anaconda/lib/python3.6/site-packages/ipykernel_launcher.py:1: SettingWithCopyWarning: \n",
      "A value is trying to be set on a copy of a slice from a DataFrame.\n",
      "Try using .loc[row_indexer,col_indexer] = value instead\n",
      "\n",
      "See the caveats in the documentation: http://pandas.pydata.org/pandas-docs/stable/indexing.html#indexing-view-versus-copy\n",
      "  \"\"\"Entry point for launching an IPython kernel.\n",
      "/anaconda/lib/python3.6/site-packages/ipykernel_launcher.py:2: SettingWithCopyWarning: \n",
      "A value is trying to be set on a copy of a slice from a DataFrame.\n",
      "Try using .loc[row_indexer,col_indexer] = value instead\n",
      "\n",
      "See the caveats in the documentation: http://pandas.pydata.org/pandas-docs/stable/indexing.html#indexing-view-versus-copy\n",
      "  \n",
      "/anaconda/lib/python3.6/site-packages/ipykernel_launcher.py:3: SettingWithCopyWarning: \n",
      "A value is trying to be set on a copy of a slice from a DataFrame.\n",
      "Try using .loc[row_indexer,col_indexer] = value instead\n",
      "\n",
      "See the caveats in the documentation: http://pandas.pydata.org/pandas-docs/stable/indexing.html#indexing-view-versus-copy\n",
      "  This is separate from the ipykernel package so we can avoid doing imports until\n",
      "/anaconda/lib/python3.6/site-packages/ipykernel_launcher.py:4: SettingWithCopyWarning: \n",
      "A value is trying to be set on a copy of a slice from a DataFrame.\n",
      "Try using .loc[row_indexer,col_indexer] = value instead\n",
      "\n",
      "See the caveats in the documentation: http://pandas.pydata.org/pandas-docs/stable/indexing.html#indexing-view-versus-copy\n",
      "  after removing the cwd from sys.path.\n"
     ]
    }
   ],
   "source": [
    "capo['Percent Survival'] = capo['Mouse ID'] / origcapo * 100\n",
    "infu['Percent Survival'] = infu['Mouse ID'] / originfu * 100\n",
    "keta['Percent Survival'] = keta['Mouse ID'] / origketa * 100\n",
    "plac['Percent Survival'] = plac['Mouse ID'] / origplac * 100\n"
   ]
  },
  {
   "cell_type": "code",
   "execution_count": 336,
   "metadata": {},
   "outputs": [
    {
     "data": {
      "image/png": "[encoded data removed]",
      "text/plain": [
       "<matplotlib.figure.Figure at 0x11fd31940>"
      ]
     },
     "metadata": {},
     "output_type": "display_data"
    }
   ],
   "source": [
    "ax = capo.plot(x='Timepoint', y='Percent Survival', kind='scatter', color='red', label='Capomulin')\n",
    "ax2 = infu.plot(x='Timepoint', y='Percent Survival', kind='scatter', color='blue', label='Infubinol', ax=ax)\n",
    "ax3 = keta.plot(x='Timepoint', y='Percent Survival', kind='scatter', color='green', label='Ketapril', ax=ax2)\n",
    "plac.plot(x='Timepoint', y='Percent Survival', kind='scatter', color='purple', label='Placebo', ax=ax3)\n",
    "\n",
    "plt.grid()\n",
    "plt.title('Percent of Survival\\n vs. Time\\n by Treatment')\n",
    "plt.ylim(0, 110)\n",
    "plt.show()"
   ]
  },
  {
   "cell_type": "markdown",
   "metadata": {},
   "source": [
    "This produces a similar result as above."
   ]
  },
  {
   "cell_type": "markdown",
   "metadata": {},
   "source": [
    "## Total % tumor volume change:\n",
    "This will be similar to the above percent survival plot, except that the:\n",
    "- summary statistic after groupby will be mean tumor volume\n",
    "- original value will be tumor volume at timepoint zero"
   ]
  },
  {
   "cell_type": "code",
   "execution_count": 337,
   "metadata": {},
   "outputs": [
    {
     "name": "stderr",
     "output_type": "stream",
     "text": [
      "/anaconda/lib/python3.6/site-packages/ipykernel_launcher.py:5: FutureWarning: using a dict on a Series for aggregation\n",
      "is deprecated and will be removed in a future version\n",
      "  \"\"\"\n",
      "/anaconda/lib/python3.6/site-packages/ipykernel_launcher.py:17: SettingWithCopyWarning: \n",
      "A value is trying to be set on a copy of a slice from a DataFrame.\n",
      "Try using .loc[row_indexer,col_indexer] = value instead\n",
      "\n",
      "See the caveats in the documentation: http://pandas.pydata.org/pandas-docs/stable/indexing.html#indexing-view-versus-copy\n",
      "/anaconda/lib/python3.6/site-packages/ipykernel_launcher.py:18: SettingWithCopyWarning: \n",
      "A value is trying to be set on a copy of a slice from a DataFrame.\n",
      "Try using .loc[row_indexer,col_indexer] = value instead\n",
      "\n",
      "See the caveats in the documentation: http://pandas.pydata.org/pandas-docs/stable/indexing.html#indexing-view-versus-copy\n",
      "/anaconda/lib/python3.6/site-packages/ipykernel_launcher.py:19: SettingWithCopyWarning: \n",
      "A value is trying to be set on a copy of a slice from a DataFrame.\n",
      "Try using .loc[row_indexer,col_indexer] = value instead\n",
      "\n",
      "See the caveats in the documentation: http://pandas.pydata.org/pandas-docs/stable/indexing.html#indexing-view-versus-copy\n",
      "/anaconda/lib/python3.6/site-packages/ipykernel_launcher.py:20: SettingWithCopyWarning: \n",
      "A value is trying to be set on a copy of a slice from a DataFrame.\n",
      "Try using .loc[row_indexer,col_indexer] = value instead\n",
      "\n",
      "See the caveats in the documentation: http://pandas.pydata.org/pandas-docs/stable/indexing.html#indexing-view-versus-copy\n"
     ]
    },
    {
     "data": {
      "image/png": "[encoded data removed]",
      "text/plain": [
       "<matplotlib.figure.Figure at 0x11d78e048>"
      ]
     },
     "metadata": {},
     "output_type": "display_data"
    }
   ],
   "source": [
    "drug_time_group = together.groupby(['Drug','Timepoint'])\n",
    "\n",
    "# pick any column and count\n",
    "micepct = pd.DataFrame(drug_time_group['Tumor Volume (mm3)'].agg({'Tumor Volume (mm3)':'mean',\n",
    "                                                                  'Std. Error': 'sem'})).reset_index()\n",
    "\n",
    "capo = micepct[micepct['Drug'] == 'Capomulin']\n",
    "infu = micepct[micepct['Drug'] == 'Infubinol']\n",
    "keta = micepct[micepct['Drug'] == 'Ketapril']\n",
    "plac = micepct[micepct['Drug'] == 'Placebo']\n",
    "\n",
    "origcapo = together[(together['Drug'] == 'Capomulin') & (together['Timepoint'] == 0)]['Tumor Volume (mm3)'].mean()\n",
    "originfu = together[(together['Drug'] == 'Infubinol') & (together['Timepoint'] == 0)]['Tumor Volume (mm3)'].mean()\n",
    "origketa = together[(together['Drug'] == 'Ketapril') & (together['Timepoint'] == 0)]['Tumor Volume (mm3)'].mean()\n",
    "origplac = together[(together['Drug'] == 'Placebo') & (together['Timepoint'] == 0)]['Tumor Volume (mm3)'].mean()\n",
    "\n",
    "capo['Percent Change of Tumor Volume'] = ((capo['Tumor Volume (mm3)'] - origcapo) / origcapo) * 100\n",
    "infu['Percent Change of Tumor Volume'] = ((infu['Tumor Volume (mm3)'] - originfu) / originfu) * 100\n",
    "keta['Percent Change of Tumor Volume'] = ((keta['Tumor Volume (mm3)'] - origketa) / origketa) * 100\n",
    "plac['Percent Change of Tumor Volume'] = ((plac['Tumor Volume (mm3)'] - origplac) / origplac) * 100\n",
    "\n",
    "ax = capo.plot(x='Timepoint', y='Percent Change of Tumor Volume', kind='scatter', color='red', label='Capomulin', yerr='Std. Error')\n",
    "ax2 = infu.plot(x='Timepoint', y='Percent Change of Tumor Volume', kind='scatter', color='blue', label='Infubinol', ax=ax, yerr='Std. Error')\n",
    "ax3 = keta.plot(x='Timepoint', y='Percent Change of Tumor Volume', kind='scatter', color='green', label='Ketapril', ax=ax2, yerr='Std. Error')\n",
    "plac.plot(x='Timepoint', y='Percent Change of Tumor Volume', kind='scatter', color='purple', label='Placebo', ax=ax3, yerr='Std. Error')\n",
    "\n",
    "plt.grid()\n",
    "plt.title('Percent Change\\n of Tumor Volume vs. Time\\n by Treatment')\n",
    "\n",
    "plt.show()"
   ]
  },
  {
   "cell_type": "markdown",
   "metadata": {},
   "source": [
    "This would give us percent change of tumor volume at each timepoint, but lets zoom in on the last timepoint to discuss the outcome of the study.\n",
    "\n",
    "First, lets look at one of the subsets we created in the last graph."
   ]
  },
  {
   "cell_type": "code",
   "execution_count": 343,
   "metadata": {},
   "outputs": [
    {
     "data": {
      "text/html": [
       "<div>\n",
       "<style scoped>\n",
       "    .dataframe tbody tr th:only-of-type {\n",
       "        vertical-align: middle;\n",
       "    }\n",
       "\n",
       "    .dataframe tbody tr th {\n",
       "        vertical-align: top;\n",
       "    }\n",
       "\n",
       "    .dataframe thead th {\n",
       "        text-align: right;\n",
       "    }\n",
       "</style>\n",
       "<table border=\"1\" class=\"dataframe\">\n",
       "  <thead>\n",
       "    <tr style=\"text-align: right;\">\n",
       "      <th></th>\n",
       "      <th>Drug</th>\n",
       "      <th>Timepoint</th>\n",
       "      <th>Tumor Volume (mm3)</th>\n",
       "      <th>Std. Error</th>\n",
       "      <th>Percent Change of Tumor Volume</th>\n",
       "    </tr>\n",
       "  </thead>\n",
       "  <tbody>\n",
       "    <tr>\n",
       "      <th>0</th>\n",
       "      <td>Capomulin</td>\n",
       "      <td>0</td>\n",
       "      <td>45.000000</td>\n",
       "      <td>0.000000</td>\n",
       "      <td>0.000000</td>\n",
       "    </tr>\n",
       "    <tr>\n",
       "      <th>1</th>\n",
       "      <td>Capomulin</td>\n",
       "      <td>5</td>\n",
       "      <td>44.266086</td>\n",
       "      <td>0.448593</td>\n",
       "      <td>-1.630919</td>\n",
       "    </tr>\n",
       "    <tr>\n",
       "      <th>2</th>\n",
       "      <td>Capomulin</td>\n",
       "      <td>10</td>\n",
       "      <td>43.084291</td>\n",
       "      <td>0.702684</td>\n",
       "      <td>-4.257132</td>\n",
       "    </tr>\n",
       "    <tr>\n",
       "      <th>3</th>\n",
       "      <td>Capomulin</td>\n",
       "      <td>15</td>\n",
       "      <td>42.064317</td>\n",
       "      <td>0.838617</td>\n",
       "      <td>-6.523739</td>\n",
       "    </tr>\n",
       "    <tr>\n",
       "      <th>4</th>\n",
       "      <td>Capomulin</td>\n",
       "      <td>20</td>\n",
       "      <td>40.716325</td>\n",
       "      <td>0.909731</td>\n",
       "      <td>-9.519277</td>\n",
       "    </tr>\n",
       "    <tr>\n",
       "      <th>5</th>\n",
       "      <td>Capomulin</td>\n",
       "      <td>25</td>\n",
       "      <td>39.939528</td>\n",
       "      <td>0.881642</td>\n",
       "      <td>-11.245494</td>\n",
       "    </tr>\n",
       "    <tr>\n",
       "      <th>6</th>\n",
       "      <td>Capomulin</td>\n",
       "      <td>30</td>\n",
       "      <td>38.769339</td>\n",
       "      <td>0.934460</td>\n",
       "      <td>-13.845913</td>\n",
       "    </tr>\n",
       "    <tr>\n",
       "      <th>7</th>\n",
       "      <td>Capomulin</td>\n",
       "      <td>35</td>\n",
       "      <td>37.816839</td>\n",
       "      <td>1.052241</td>\n",
       "      <td>-15.962580</td>\n",
       "    </tr>\n",
       "    <tr>\n",
       "      <th>8</th>\n",
       "      <td>Capomulin</td>\n",
       "      <td>40</td>\n",
       "      <td>36.958001</td>\n",
       "      <td>1.223608</td>\n",
       "      <td>-17.871109</td>\n",
       "    </tr>\n",
       "    <tr>\n",
       "      <th>9</th>\n",
       "      <td>Capomulin</td>\n",
       "      <td>45</td>\n",
       "      <td>36.236114</td>\n",
       "      <td>1.223977</td>\n",
       "      <td>-19.475303</td>\n",
       "    </tr>\n",
       "  </tbody>\n",
       "</table>\n",
       "</div>"
      ],
      "text/plain": [
       "        Drug  Timepoint  Tumor Volume (mm3)  Std. Error  \\\n",
       "0  Capomulin          0           45.000000    0.000000   \n",
       "1  Capomulin          5           44.266086    0.448593   \n",
       "2  Capomulin         10           43.084291    0.702684   \n",
       "3  Capomulin         15           42.064317    0.838617   \n",
       "4  Capomulin         20           40.716325    0.909731   \n",
       "5  Capomulin         25           39.939528    0.881642   \n",
       "6  Capomulin         30           38.769339    0.934460   \n",
       "7  Capomulin         35           37.816839    1.052241   \n",
       "8  Capomulin         40           36.958001    1.223608   \n",
       "9  Capomulin         45           36.236114    1.223977   \n",
       "\n",
       "   Percent Change of Tumor Volume  \n",
       "0                        0.000000  \n",
       "1                       -1.630919  \n",
       "2                       -4.257132  \n",
       "3                       -6.523739  \n",
       "4                       -9.519277  \n",
       "5                      -11.245494  \n",
       "6                      -13.845913  \n",
       "7                      -15.962580  \n",
       "8                      -17.871109  \n",
       "9                      -19.475303  "
      ]
     },
     "execution_count": 343,
     "metadata": {},
     "output_type": "execute_result"
    }
   ],
   "source": [
    "capo"
   ]
  },
  {
   "cell_type": "markdown",
   "metadata": {},
   "source": [
    "The information we need is in row index 9, under the Drug and Percent Change of Tumor Volume columns.\n",
    "- Based on this information, lets create a new dataframe with the information we need."
   ]
  },
  {
   "cell_type": "code",
   "execution_count": 344,
   "metadata": {},
   "outputs": [
    {
     "data": {
      "text/html": [
       "<div>\n",
       "<style scoped>\n",
       "    .dataframe tbody tr th:only-of-type {\n",
       "        vertical-align: middle;\n",
       "    }\n",
       "\n",
       "    .dataframe tbody tr th {\n",
       "        vertical-align: top;\n",
       "    }\n",
       "\n",
       "    .dataframe thead th {\n",
       "        text-align: right;\n",
       "    }\n",
       "</style>\n",
       "<table border=\"1\" class=\"dataframe\">\n",
       "  <thead>\n",
       "    <tr style=\"text-align: right;\">\n",
       "      <th></th>\n",
       "      <th>Capomulin</th>\n",
       "      <th>Infubinol</th>\n",
       "      <th>Ketapril</th>\n",
       "      <th>Placebo</th>\n",
       "    </tr>\n",
       "  </thead>\n",
       "  <tbody>\n",
       "    <tr>\n",
       "      <th></th>\n",
       "      <td>1.223977</td>\n",
       "      <td>1.144427</td>\n",
       "      <td>1.453186</td>\n",
       "      <td>1.351726</td>\n",
       "    </tr>\n",
       "  </tbody>\n",
       "</table>\n",
       "</div>"
      ],
      "text/plain": [
       "  Capomulin  Infubinol  Ketapril   Placebo\n",
       "   1.223977   1.144427  1.453186  1.351726"
      ]
     },
     "execution_count": 344,
     "metadata": {},
     "output_type": "execute_result"
    }
   ],
   "source": [
    "summary = pd.DataFrame({str(capo.iloc[9,0]): capo.iloc[9,3],\n",
    "                        str(infu.iloc[9,0]): infu.iloc[9,3],\n",
    "                        str(keta.iloc[9,0]): keta.iloc[9,3],\n",
    "                        str(plac.iloc[9,0]): plac.iloc[9,3]}, index=[''])\n",
    "summary\n"
   ]
  },
  {
   "cell_type": "code",
   "execution_count": 345,
   "metadata": {},
   "outputs": [
    {
     "data": {
      "text/plain": [
       "<matplotlib.axes._subplots.AxesSubplot at 0x121dcd710>"
      ]
     },
     "execution_count": 345,
     "metadata": {},
     "output_type": "execute_result"
    }
   ],
   "source": [
    "labels = ['Capomulin', 'Infubinol', 'Ketapril', 'Placebo']\n",
    "color = ['green', 'red', 'red', 'red']\n",
    "othersummary.plot(kind='bar', color=color, edgecolor='black', legend=False, width=2)"
   ]
  },
  {
   "cell_type": "code",
   "execution_count": 346,
   "metadata": {},
   "outputs": [
    {
     "data": {
      "image/png": "[encoded data removed]",
      "text/plain": [
       "<matplotlib.figure.Figure at 0x121c4a780>"
      ]
     },
     "metadata": {},
     "output_type": "display_data"
    }
   ],
   "source": [
    "plt.hlines(0, -0.5, 4)\n",
    "plt.xlim(-1, 1)\n",
    "plt.xticks([-0.75, -0.25, 0.25, 0.75], labels, rotation=0)\n",
    "plt.grid(alpha=0.25)\n",
    "plt.title('Percent Change in Mean Tumor Size\\n at Timepoint 45, by Treatment')\n",
    "plt.ylabel('% Change in Mean Tumor Size')\n",
    "plt.xlabel('Drug')\n",
    "plt.show()\n"
   ]
  },
  {
   "cell_type": "markdown",
   "metadata": {},
   "source": [
    "## Discussion of Trends\n",
    "- Of all treatment groups, Capomulin produced the:\n",
    "  - Greatest reduction in tumor volume\n",
    "  - Lowest number of metastatic sites\n",
    "  - Highest survival rate"
   ]
  }
 ],
 "metadata": {
  "kernelspec": {
   "display_name": "Python 3",
   "language": "python",
   "name": "python3"
  },
  "language_info": {
   "codemirror_mode": {
    "name": "ipython",
    "version": 3
   },
   "file_extension": ".py",
   "mimetype": "text/x-python",
   "name": "python",
   "nbconvert_exporter": "python",
   "pygments_lexer": "ipython3",
   "version": "3.6.3"
  }
 },
 "nbformat": 4,
 "nbformat_minor": 2
}
